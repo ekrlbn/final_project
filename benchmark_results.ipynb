{
 "cells": [
  {
   "cell_type": "code",
   "execution_count": 4,
   "id": "ce6607d0",
   "metadata": {},
   "outputs": [
    {
     "data": {
      "text/html": [
       "<div>\n",
       "<style scoped>\n",
       "    .dataframe tbody tr th:only-of-type {\n",
       "        vertical-align: middle;\n",
       "    }\n",
       "\n",
       "    .dataframe tbody tr th {\n",
       "        vertical-align: top;\n",
       "    }\n",
       "\n",
       "    .dataframe thead th {\n",
       "        text-align: right;\n",
       "    }\n",
       "</style>\n",
       "<table border=\"1\" class=\"dataframe\">\n",
       "  <thead>\n",
       "    <tr style=\"text-align: right;\">\n",
       "      <th></th>\n",
       "      <th>query</th>\n",
       "      <th>chunk_size</th>\n",
       "      <th>chunk_overlap</th>\n",
       "      <th>embedding_function</th>\n",
       "      <th>chunk_count</th>\n",
       "      <th>distance_max</th>\n",
       "      <th>distance_avr</th>\n",
       "      <th>input_tokens</th>\n",
       "      <th>rating</th>\n",
       "    </tr>\n",
       "  </thead>\n",
       "  <tbody>\n",
       "    <tr>\n",
       "      <th>0</th>\n",
       "      <td>0</td>\n",
       "      <td>500</td>\n",
       "      <td>0</td>\n",
       "      <td>multi-qa-MiniLM-L6-cos-v1</td>\n",
       "      <td>3</td>\n",
       "      <td>0.568730</td>\n",
       "      <td>0.528078</td>\n",
       "      <td>411</td>\n",
       "      <td>3</td>\n",
       "    </tr>\n",
       "    <tr>\n",
       "      <th>1</th>\n",
       "      <td>1</td>\n",
       "      <td>500</td>\n",
       "      <td>0</td>\n",
       "      <td>multi-qa-MiniLM-L6-cos-v1</td>\n",
       "      <td>3</td>\n",
       "      <td>0.752624</td>\n",
       "      <td>0.631236</td>\n",
       "      <td>431</td>\n",
       "      <td>10</td>\n",
       "    </tr>\n",
       "    <tr>\n",
       "      <th>2</th>\n",
       "      <td>2</td>\n",
       "      <td>500</td>\n",
       "      <td>0</td>\n",
       "      <td>multi-qa-MiniLM-L6-cos-v1</td>\n",
       "      <td>3</td>\n",
       "      <td>0.759627</td>\n",
       "      <td>0.738991</td>\n",
       "      <td>366</td>\n",
       "      <td>10</td>\n",
       "    </tr>\n",
       "    <tr>\n",
       "      <th>3</th>\n",
       "      <td>3</td>\n",
       "      <td>500</td>\n",
       "      <td>0</td>\n",
       "      <td>multi-qa-MiniLM-L6-cos-v1</td>\n",
       "      <td>3</td>\n",
       "      <td>0.651457</td>\n",
       "      <td>0.565125</td>\n",
       "      <td>405</td>\n",
       "      <td>0</td>\n",
       "    </tr>\n",
       "    <tr>\n",
       "      <th>4</th>\n",
       "      <td>4</td>\n",
       "      <td>500</td>\n",
       "      <td>0</td>\n",
       "      <td>multi-qa-MiniLM-L6-cos-v1</td>\n",
       "      <td>3</td>\n",
       "      <td>0.706015</td>\n",
       "      <td>0.690337</td>\n",
       "      <td>416</td>\n",
       "      <td>6</td>\n",
       "    </tr>\n",
       "  </tbody>\n",
       "</table>\n",
       "</div>"
      ],
      "text/plain": [
       "   query  chunk_size  chunk_overlap         embedding_function  chunk_count  \\\n",
       "0      0         500              0  multi-qa-MiniLM-L6-cos-v1            3   \n",
       "1      1         500              0  multi-qa-MiniLM-L6-cos-v1            3   \n",
       "2      2         500              0  multi-qa-MiniLM-L6-cos-v1            3   \n",
       "3      3         500              0  multi-qa-MiniLM-L6-cos-v1            3   \n",
       "4      4         500              0  multi-qa-MiniLM-L6-cos-v1            3   \n",
       "\n",
       "   distance_max  distance_avr  input_tokens  rating  \n",
       "0      0.568730      0.528078           411       3  \n",
       "1      0.752624      0.631236           431      10  \n",
       "2      0.759627      0.738991           366      10  \n",
       "3      0.651457      0.565125           405       0  \n",
       "4      0.706015      0.690337           416       6  "
      ]
     },
     "execution_count": 4,
     "metadata": {},
     "output_type": "execute_result"
    }
   ],
   "source": [
    "import pandas as pd\n",
    "import numpy as np\n",
    "\n",
    "df = pd.read_csv('benchmark_results.csv')\n",
    "df.head()"
   ]
  },
  {
   "cell_type": "code",
   "execution_count": 5,
   "id": "6a0adb7f",
   "metadata": {},
   "outputs": [
    {
     "data": {
      "text/html": [
       "<div>\n",
       "<style scoped>\n",
       "    .dataframe tbody tr th:only-of-type {\n",
       "        vertical-align: middle;\n",
       "    }\n",
       "\n",
       "    .dataframe tbody tr th {\n",
       "        vertical-align: top;\n",
       "    }\n",
       "\n",
       "    .dataframe thead th {\n",
       "        text-align: right;\n",
       "    }\n",
       "</style>\n",
       "<table border=\"1\" class=\"dataframe\">\n",
       "  <thead>\n",
       "    <tr style=\"text-align: right;\">\n",
       "      <th></th>\n",
       "      <th>embedding_function</th>\n",
       "      <th>distance_max</th>\n",
       "      <th>distance_avr</th>\n",
       "      <th>rating</th>\n",
       "    </tr>\n",
       "  </thead>\n",
       "  <tbody>\n",
       "    <tr>\n",
       "      <th>0</th>\n",
       "      <td>all-MiniLM-L6-v2</td>\n",
       "      <td>0.734516</td>\n",
       "      <td>0.678089</td>\n",
       "      <td>7.411111</td>\n",
       "    </tr>\n",
       "    <tr>\n",
       "      <th>1</th>\n",
       "      <td>models/text-embedding-004</td>\n",
       "      <td>0.334607</td>\n",
       "      <td>0.309853</td>\n",
       "      <td>7.666667</td>\n",
       "    </tr>\n",
       "    <tr>\n",
       "      <th>2</th>\n",
       "      <td>multi-qa-MiniLM-L6-cos-v1</td>\n",
       "      <td>0.741642</td>\n",
       "      <td>0.683292</td>\n",
       "      <td>8.144444</td>\n",
       "    </tr>\n",
       "  </tbody>\n",
       "</table>\n",
       "</div>"
      ],
      "text/plain": [
       "          embedding_function  distance_max  distance_avr    rating\n",
       "0           all-MiniLM-L6-v2      0.734516      0.678089  7.411111\n",
       "1  models/text-embedding-004      0.334607      0.309853  7.666667\n",
       "2  multi-qa-MiniLM-L6-cos-v1      0.741642      0.683292  8.144444"
      ]
     },
     "execution_count": 5,
     "metadata": {},
     "output_type": "execute_result"
    }
   ],
   "source": [
    "df.groupby(['embedding_function'])[['distance_max', 'distance_avr', 'rating']].mean().reset_index()"
   ]
  },
  {
   "cell_type": "code",
   "execution_count": 33,
   "id": "aed3ae71",
   "metadata": {},
   "outputs": [
    {
     "data": {
      "text/plain": [
       "np.float64(0.9960561990737915)"
      ]
     },
     "execution_count": 33,
     "metadata": {},
     "output_type": "execute_result"
    }
   ],
   "source": [
    "df['distance_max'].quantile(0.90)"
   ]
  },
  {
   "cell_type": "code",
   "execution_count": 23,
   "id": "becb5f22",
   "metadata": {},
   "outputs": [
    {
     "data": {
      "text/plain": [
       "query                 180\n",
       "chunk_size            180\n",
       "chunk_overlap         180\n",
       "embedding_function    180\n",
       "chunk_count           180\n",
       "distance_max          180\n",
       "distance_avr          180\n",
       "input_tokens          180\n",
       "rating                180\n",
       "dtype: int64"
      ]
     },
     "execution_count": 23,
     "metadata": {},
     "output_type": "execute_result"
    }
   ],
   "source": [
    "df = df[df['embedding_function'] == 'multi-qa-MiniLM-L6-cos-v1']\n",
    "df.count()"
   ]
  },
  {
   "cell_type": "code",
   "execution_count": 24,
   "id": "596094f6",
   "metadata": {},
   "outputs": [
    {
     "data": {
      "text/html": [
       "<div>\n",
       "<style scoped>\n",
       "    .dataframe tbody tr th:only-of-type {\n",
       "        vertical-align: middle;\n",
       "    }\n",
       "\n",
       "    .dataframe tbody tr th {\n",
       "        vertical-align: top;\n",
       "    }\n",
       "\n",
       "    .dataframe thead th {\n",
       "        text-align: right;\n",
       "    }\n",
       "</style>\n",
       "<table border=\"1\" class=\"dataframe\">\n",
       "  <thead>\n",
       "    <tr style=\"text-align: right;\">\n",
       "      <th></th>\n",
       "      <th>chunk_size</th>\n",
       "      <th>chunk_overlap</th>\n",
       "      <th>input_tokens</th>\n",
       "      <th>rating</th>\n",
       "    </tr>\n",
       "  </thead>\n",
       "  <tbody>\n",
       "    <tr>\n",
       "      <th>0</th>\n",
       "      <td>500</td>\n",
       "      <td>0</td>\n",
       "      <td>499.55</td>\n",
       "      <td>7.15</td>\n",
       "    </tr>\n",
       "    <tr>\n",
       "      <th>1</th>\n",
       "      <td>500</td>\n",
       "      <td>200</td>\n",
       "      <td>521.00</td>\n",
       "      <td>7.30</td>\n",
       "    </tr>\n",
       "    <tr>\n",
       "      <th>2</th>\n",
       "      <td>500</td>\n",
       "      <td>100</td>\n",
       "      <td>520.70</td>\n",
       "      <td>7.55</td>\n",
       "    </tr>\n",
       "    <tr>\n",
       "      <th>3</th>\n",
       "      <td>1000</td>\n",
       "      <td>100</td>\n",
       "      <td>1045.45</td>\n",
       "      <td>7.75</td>\n",
       "    </tr>\n",
       "    <tr>\n",
       "      <th>4</th>\n",
       "      <td>1000</td>\n",
       "      <td>200</td>\n",
       "      <td>1041.30</td>\n",
       "      <td>8.10</td>\n",
       "    </tr>\n",
       "    <tr>\n",
       "      <th>5</th>\n",
       "      <td>1500</td>\n",
       "      <td>200</td>\n",
       "      <td>1478.90</td>\n",
       "      <td>8.50</td>\n",
       "    </tr>\n",
       "    <tr>\n",
       "      <th>6</th>\n",
       "      <td>1000</td>\n",
       "      <td>0</td>\n",
       "      <td>1012.90</td>\n",
       "      <td>8.80</td>\n",
       "    </tr>\n",
       "    <tr>\n",
       "      <th>7</th>\n",
       "      <td>1500</td>\n",
       "      <td>100</td>\n",
       "      <td>1425.25</td>\n",
       "      <td>8.85</td>\n",
       "    </tr>\n",
       "    <tr>\n",
       "      <th>8</th>\n",
       "      <td>1500</td>\n",
       "      <td>0</td>\n",
       "      <td>1450.35</td>\n",
       "      <td>9.30</td>\n",
       "    </tr>\n",
       "  </tbody>\n",
       "</table>\n",
       "</div>"
      ],
      "text/plain": [
       "   chunk_size  chunk_overlap  input_tokens  rating\n",
       "0         500              0        499.55    7.15\n",
       "1         500            200        521.00    7.30\n",
       "2         500            100        520.70    7.55\n",
       "3        1000            100       1045.45    7.75\n",
       "4        1000            200       1041.30    8.10\n",
       "5        1500            200       1478.90    8.50\n",
       "6        1000              0       1012.90    8.80\n",
       "7        1500            100       1425.25    8.85\n",
       "8        1500              0       1450.35    9.30"
      ]
     },
     "execution_count": 24,
     "metadata": {},
     "output_type": "execute_result"
    }
   ],
   "source": [
    "df.groupby(['chunk_size', 'chunk_overlap'])[['input_tokens','rating']].mean().sort_values(by='rating').reset_index()"
   ]
  },
  {
   "cell_type": "markdown",
   "id": "599de773",
   "metadata": {},
   "source": [
    "There is a more than point 1 (8.80 - 7.55) difference in rating between the configuration (chunk_size=500, chunk_overlap=100) and (chunk_size=1000, chunk_overlap=0)."
   ]
  },
  {
   "cell_type": "code",
   "execution_count": 25,
   "id": "915f2bad",
   "metadata": {},
   "outputs": [
    {
     "data": {
      "text/html": [
       "<div>\n",
       "<style scoped>\n",
       "    .dataframe tbody tr th:only-of-type {\n",
       "        vertical-align: middle;\n",
       "    }\n",
       "\n",
       "    .dataframe tbody tr th {\n",
       "        vertical-align: top;\n",
       "    }\n",
       "\n",
       "    .dataframe thead th {\n",
       "        text-align: right;\n",
       "    }\n",
       "</style>\n",
       "<table border=\"1\" class=\"dataframe\">\n",
       "  <thead>\n",
       "    <tr style=\"text-align: right;\">\n",
       "      <th></th>\n",
       "      <th>chunk_count</th>\n",
       "      <th>input_tokens</th>\n",
       "      <th>rating</th>\n",
       "    </tr>\n",
       "  </thead>\n",
       "  <tbody>\n",
       "    <tr>\n",
       "      <th>0</th>\n",
       "      <td>3</td>\n",
       "      <td>786.300000</td>\n",
       "      <td>7.600000</td>\n",
       "    </tr>\n",
       "    <tr>\n",
       "      <th>1</th>\n",
       "      <td>5</td>\n",
       "      <td>1212.677778</td>\n",
       "      <td>8.688889</td>\n",
       "    </tr>\n",
       "  </tbody>\n",
       "</table>\n",
       "</div>"
      ],
      "text/plain": [
       "   chunk_count  input_tokens    rating\n",
       "0            3    786.300000  7.600000\n",
       "1            5   1212.677778  8.688889"
      ]
     },
     "execution_count": 25,
     "metadata": {},
     "output_type": "execute_result"
    }
   ],
   "source": [
    "df.groupby(['chunk_count'])[['input_tokens','rating']].mean().reset_index()"
   ]
  },
  {
   "cell_type": "code",
   "execution_count": 26,
   "id": "f733538c",
   "metadata": {},
   "outputs": [
    {
     "name": "stdout",
     "output_type": "stream",
     "text": [
      "Input tokens percentage: 54.20%\n",
      "Rating percentage: 14.21%\n"
     ]
    }
   ],
   "source": [
    "itokens_percentage = (1212-786)/786\n",
    "rating_percentage = (8.68-7.6)/7.6\n",
    "\n",
    "print(f\"Input tokens percentage: {itokens_percentage:.2%}\")\n",
    "print(f\"Rating percentage: {rating_percentage:.2%}\")"
   ]
  },
  {
   "cell_type": "code",
   "execution_count": null,
   "id": "b1cbfb80",
   "metadata": {},
   "outputs": [],
   "source": []
  }
 ],
 "metadata": {
  "kernelspec": {
   "display_name": "Python 3",
   "language": "python",
   "name": "python3"
  },
  "language_info": {
   "codemirror_mode": {
    "name": "ipython",
    "version": 3
   },
   "file_extension": ".py",
   "mimetype": "text/x-python",
   "name": "python",
   "nbconvert_exporter": "python",
   "pygments_lexer": "ipython3",
   "version": "3.12.5"
  }
 },
 "nbformat": 4,
 "nbformat_minor": 5
}
